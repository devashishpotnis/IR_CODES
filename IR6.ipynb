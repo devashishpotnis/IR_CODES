{
 "cells": [
  {
   "cell_type": "code",
   "execution_count": null,
   "id": "90b16cbb-49b0-43c4-abf3-f3c7e6eb3572",
   "metadata": {},
   "outputs": [],
   "source": [
    "#NAME: DEVASHISH MAYUR POTNIS\n",
    "#CLASS: BE-AIML\n",
    "#ROLL NO: 43557\n",
    "#PRACTICAL: C.2\n",
    "#PROBLEM STATEMENT:-Write a program to find the live weather report (temperature, wind speed, description, and weather) of a given city. (Python)."
   ]
  },
  {
   "cell_type": "code",
   "execution_count": 1,
   "id": "753413d7-de6b-44a4-b289-3c7489cec0f3",
   "metadata": {},
   "outputs": [
    {
     "name": "stdout",
     "output_type": "stream",
     "text": [
      "Enter Your City:  pune\n"
     ]
    },
    {
     "name": "stdout",
     "output_type": "stream",
     "text": [
      "Weather in pune:\n",
      "Temperature: 300.69°C\n",
      "Wind Speed: 1.63 m/s\n",
      "Description: broken clouds\n",
      "Weather: Clouds\n"
     ]
    }
   ],
   "source": [
    "import requests\n",
    "import json\n",
    "\n",
    "def get_weather(city_name, api_key):\n",
    "    base_url = \"https://api.openweathermap.org/data/2.5/weather?\"\n",
    "    complete_url = f\"{base_url}q={city_name}&appid={api_key}\"\n",
    "\n",
    "    try:\n",
    "        response = requests.get(complete_url)\n",
    "        data = response.json()\n",
    "\n",
    "        if data[\"cod\"] == 200:\n",
    "            \n",
    "            temperature = data[\"main\"][\"temp\"]\n",
    "            wind_speed = data[\"wind\"][\"speed\"]\n",
    "            description = data[\"weather\"][0][\"description\"]\n",
    "            weather = data[\"weather\"][0][\"main\"]\n",
    "\n",
    "            print(f\"Weather in {city_name}:\")\n",
    "            print(f\"Temperature: {temperature}°C\")\n",
    "            print(f\"Wind Speed: {wind_speed} m/s\")\n",
    "            print(f\"Description: {description}\")\n",
    "            print(f\"Weather: {weather}\")\n",
    "        else:\n",
    "            print(\"City not found\")\n",
    "\n",
    "    except Exception as e:\n",
    "        print(\"An error occurred:\", str(e))\n",
    "\n",
    "api_key = \"9dafa4d5ec2b4631fef59d925daa4543\"\n",
    "city_name = input(\"Enter Your City: \")  \n",
    "\n",
    "get_weather(city_name, api_key)\n"
   ]
  },
  {
   "cell_type": "code",
   "execution_count": null,
   "id": "8a077b77-ebc2-4e2a-a817-c99fcd01de6d",
   "metadata": {},
   "outputs": [],
   "source": []
  }
 ],
 "metadata": {
  "kernelspec": {
   "display_name": "Python 3 (ipykernel)",
   "language": "python",
   "name": "python3"
  },
  "language_info": {
   "codemirror_mode": {
    "name": "ipython",
    "version": 3
   },
   "file_extension": ".py",
   "mimetype": "text/x-python",
   "name": "python",
   "nbconvert_exporter": "python",
   "pygments_lexer": "ipython3",
   "version": "3.12.4"
  }
 },
 "nbformat": 4,
 "nbformat_minor": 5
}
