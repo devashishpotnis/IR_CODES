{
 "cells": [
  {
   "cell_type": "code",
   "execution_count": 1,
   "id": "8bf47458-e353-47d5-a35c-d66d085703ae",
   "metadata": {},
   "outputs": [
    {
     "data": {
      "text/plain": [
       "'/Users/devashish'"
      ]
     },
     "execution_count": 1,
     "metadata": {},
     "output_type": "execute_result"
    }
   ],
   "source": [
    "#NAME: DEVASHISH MAYUR POTNIS\n",
    "#CLASS: BE-AIML\n",
    "#ROLL NO: 43557\n",
    "#PRACTICAL :A.1\n",
    "#PROBLEM STATEMENT:- Implement a Conflation algorithm to generate a document representative of a text file. "
   ]
  },
  {
   "cell_type": "code",
   "execution_count": 12,
   "id": "e7b5eefe-6a89-4c16-b5c7-093b62e95f89",
   "metadata": {},
   "outputs": [
    {
     "name": "stdout",
     "output_type": "stream",
     "text": [
      "['fox', 'dog', 'jump', 'quick', 'brown', 'lazi', 'bark', 'loudli', 'clever', 'anim']\n"
     ]
    }
   ],
   "source": [
    "import nltk\n",
    "from nltk.stem import PorterStemmer\n",
    "from nltk.corpus import stopwords\n",
    "from collections import Counter\n",
    "\n",
    "def conflation(text):\n",
    "    \"\"\"\n",
    "    Implements a simple conflation algorithm to generate a document representative.\n",
    "    \"\"\"\n",
    "\n",
    "    # Tokenize the text\n",
    "    words = nltk.word_tokenize(text.lower())\n",
    "\n",
    "    # Remove stop words\n",
    "    stop_words = set(stopwords.words('english'))\n",
    "    words = [word for word in words if word not in stop_words and word.isalnum()]\n",
    "\n",
    "    # Stem the words\n",
    "    stemmer = PorterStemmer()\n",
    "    stemmed_words = [stemmer.stem(word) for word in words]\n",
    "\n",
    "    # Calculate word frequencies\n",
    "    word_counts = Counter(stemmed_words)\n",
    "\n",
    "    # Select the top N most frequent words as the document representative\n",
    "    top_words = [word for word, _ in word_counts.most_common(10)] \n",
    "\n",
    "    return top_words\n",
    "\n",
    "if __name__ == \"__main__\":\n",
    "    with open(\"input.txt\", \"r\") as file:\n",
    "        text = file.read()\n",
    "\n",
    "    document_rep = conflation(text)\n",
    "    print(document_rep)"
   ]
  },
  {
   "cell_type": "code",
   "execution_count": null,
   "id": "69e22a29-b2c9-4ad1-8741-a02e5dfa0f22",
   "metadata": {},
   "outputs": [],
   "source": []
  }
 ],
 "metadata": {
  "kernelspec": {
   "display_name": "Python 3 (ipykernel)",
   "language": "python",
   "name": "python3"
  },
  "language_info": {
   "codemirror_mode": {
    "name": "ipython",
    "version": 3
   },
   "file_extension": ".py",
   "mimetype": "text/x-python",
   "name": "python",
   "nbconvert_exporter": "python",
   "pygments_lexer": "ipython3",
   "version": "3.12.4"
  }
 },
 "nbformat": 4,
 "nbformat_minor": 5
}
