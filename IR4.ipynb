{
 "cells": [
  {
   "cell_type": "code",
   "execution_count": null,
   "id": "17999b70-d229-4781-b18a-ed6794fd5c71",
   "metadata": {},
   "outputs": [],
   "source": [
    "#NAME: DEVASHISH MAYUR POTNIS\n",
    "#CLASS: BE-AIML\n",
    "#ROLL NO: 43557\n",
    "#PRACTICAL: B.2\n",
    "#PROBLEM STATEMENT:- Write a program to calculate the harmonic mean (F-measure) and E-measure for the above example."
   ]
  },
  {
   "cell_type": "code",
   "execution_count": 1,
   "id": "b0e3851e-25f7-46aa-8e1d-7fdb9f14bacc",
   "metadata": {},
   "outputs": [
    {
     "name": "stdin",
     "output_type": "stream",
     "text": [
      "Enter True Positives (TP):  12\n",
      "Enter False Positives (FP):  50\n",
      "Enter False Negatives (FN):  5\n"
     ]
    },
    {
     "name": "stdout",
     "output_type": "stream",
     "text": [
      "F-measure (F1-score): 0.3038\n",
      "E-measure: 0.4497\n"
     ]
    }
   ],
   "source": [
    "def calculate_metrics(tp, fp, fn):\n",
    "    # Calculate Precision and Recall\n",
    "    precision = tp / (tp + fp) if (tp + fp) > 0 else 0\n",
    "    recall = tp / (tp + fn) if (tp + fn) > 0 else 0\n",
    "    \n",
    "    # Calculate F-measure (Harmonic Mean)\n",
    "    if (precision + recall) > 0:\n",
    "        f_measure = 2 * (precision * recall) / (precision + recall)\n",
    "    else:\n",
    "        f_measure = 0\n",
    "\n",
    "    # Calculate E-measure\n",
    "    e_measure = (precision + recall) / 2\n",
    "\n",
    "    return f_measure, e_measure\n",
    "\n",
    "# Example usage\n",
    "if __name__ == \"__main__\":\n",
    "    # Input values for true positives, false positives, and false negatives\n",
    "    tp = int(input(\"Enter True Positives (TP): \"))  # True Positives\n",
    "    fp = int(input(\"Enter False Positives (FP): \"))  # False Positives\n",
    "    fn = int(input(\"Enter False Negatives (FN): \"))  # False Negatives\n",
    "\n",
    "    f_measure, e_measure = calculate_metrics(tp, fp, fn)\n",
    "    \n",
    "    print(f\"F-measure (F1-score): {f_measure:.4f}\")\n",
    "    print(f\"E-measure: {e_measure:.4f}\")\n"
   ]
  },
  {
   "cell_type": "code",
   "execution_count": null,
   "id": "c2a471ae-ef70-46b4-ba9d-d8e4c212a16e",
   "metadata": {},
   "outputs": [],
   "source": []
  }
 ],
 "metadata": {
  "kernelspec": {
   "display_name": "Python 3 (ipykernel)",
   "language": "python",
   "name": "python3"
  },
  "language_info": {
   "codemirror_mode": {
    "name": "ipython",
    "version": 3
   },
   "file_extension": ".py",
   "mimetype": "text/x-python",
   "name": "python",
   "nbconvert_exporter": "python",
   "pygments_lexer": "ipython3",
   "version": "3.12.4"
  }
 },
 "nbformat": 4,
 "nbformat_minor": 5
}
