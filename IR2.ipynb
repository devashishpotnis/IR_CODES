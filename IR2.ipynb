{
 "cells": [
  {
   "cell_type": "code",
   "execution_count": null,
   "id": "0b360a1f-842d-49bc-b794-655b38ff4275",
   "metadata": {},
   "outputs": [],
   "source": [
    "#NAME: DEVASHISH MAYUR POTNIS\n",
    "#CLASS: BE-AIML\n",
    "#ROLL NO: 43557\n",
    "#PRACTICAL:A.2\n",
    "#PROBLEM STATEMENT:- Implement Single-pass Algorithm for the clustering of files. (Consider 4 to 5 files)."
   ]
  },
  {
   "cell_type": "code",
   "execution_count": 4,
   "id": "38f211cc-94e5-4b29-a6a2-07ec36a8f2e0",
   "metadata": {},
   "outputs": [
    {
     "name": "stdout",
     "output_type": "stream",
     "text": [
      "Cluster 1: ['file1.txt', 'file5.txt']\n",
      "Cluster 2: ['file2.txt']\n",
      "Cluster 3: ['file3.txt']\n",
      "Cluster 4: ['file4.txt']\n"
     ]
    }
   ],
   "source": [
    "import numpy as np\n",
    "from sklearn.feature_extraction.text import TfidfVectorizer\n",
    "from sklearn.metrics.pairwise import cosine_similarity\n",
    "\n",
    "def single_pass_clustering(files, threshold=0.8):\n",
    "    \"\"\"\n",
    "    Performs single-pass clustering on a list of files.\n",
    "\n",
    "    Args:\n",
    "        files (list): List of file paths to be clustered.\n",
    "        threshold (float): Similarity threshold for merging clusters.\n",
    "\n",
    "    Returns:\n",
    "        list: List of clusters, where each cluster is a list of file paths.\n",
    "    \"\"\"\n",
    "\n",
    "    clusters = []\n",
    "    vectorizer = TfidfVectorizer()\n",
    "\n",
    "    # Read all files and fit the vectorizer\n",
    "    file_contents = [open(file_path, 'r').read() for file_path in files]\n",
    "    vectors = vectorizer.fit_transform(file_contents).toarray()\n",
    "\n",
    "    for i, file_path in enumerate(files):\n",
    "        file_vector = vectors[i].reshape(1, -1)\n",
    "\n",
    "        if not clusters:\n",
    "            # Create the first cluster\n",
    "            clusters.append([file_path])\n",
    "        else:\n",
    "            max_similarity = 0\n",
    "            cluster_to_merge = None\n",
    "\n",
    "            # Find the most similar cluster\n",
    "            for j, cluster in enumerate(clusters):\n",
    "                cluster_vectors = vectors[[files.index(f) for f in cluster]]  # Get vectors of the current cluster\n",
    "                similarity = cosine_similarity(file_vector, np.mean(cluster_vectors, axis=0).reshape(1, -1))\n",
    "\n",
    "                # Extract the scalar similarity value\n",
    "                if similarity[0][0] > max_similarity:\n",
    "                    max_similarity = similarity[0][0]\n",
    "                    cluster_to_merge = j\n",
    "\n",
    "            # Add to existing cluster or create new cluster\n",
    "            if max_similarity > threshold:\n",
    "                clusters[cluster_to_merge].append(file_path)\n",
    "            else:\n",
    "                clusters.append([file_path])\n",
    "\n",
    "    return clusters\n",
    "\n",
    "# Example usage with a small number of files\n",
    "if __name__ == \"__main__\":\n",
    "    # Sample file names (make sure these files exist with appropriate content)\n",
    "    files = ['file1.txt', 'file2.txt', 'file3.txt', 'file4.txt', 'file5.txt']\n",
    "    \n",
    "    # Call the clustering function\n",
    "    clusters = single_pass_clustering(files, threshold=0.5)\n",
    "\n",
    "    # Print the resulting clusters\n",
    "    for i, cluster in enumerate(clusters):\n",
    "        print(f\"Cluster {i + 1}: {cluster}\")\n"
   ]
  }
 ],
 "metadata": {
  "kernelspec": {
   "display_name": "Python 3 (ipykernel)",
   "language": "python",
   "name": "python3"
  },
  "language_info": {
   "codemirror_mode": {
    "name": "ipython",
    "version": 3
   },
   "file_extension": ".py",
   "mimetype": "text/x-python",
   "name": "python",
   "nbconvert_exporter": "python",
   "pygments_lexer": "ipython3",
   "version": "3.12.4"
  }
 },
 "nbformat": 4,
 "nbformat_minor": 5
}
