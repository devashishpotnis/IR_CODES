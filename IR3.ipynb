{
 "cells": [
  {
   "cell_type": "code",
   "execution_count": null,
   "id": "b1753a3c-5f21-4754-90bd-22dd4fb2c836",
   "metadata": {},
   "outputs": [],
   "source": [
    "#NAME: DEVASHISH MAYUR POTNIS\n",
    "#CLASS: BE-AIML\n",
    "#ROLL NO: 43557\n",
    "#PRACTICAL:B.1\n",
    "#PROBLEM STATEMENT:-  Implement a program to calculate precision and recall for sample input. (Answer set A, Query q1, Relevant documents to query q1- Rq1 )"
   ]
  },
  {
   "cell_type": "code",
   "execution_count": 1,
   "id": "5e2c9b68-e801-4451-8825-56a336f9d22e",
   "metadata": {},
   "outputs": [
    {
     "name": "stdout",
     "output_type": "stream",
     "text": [
      "Precision: 0.4\n",
      "Recall: 0.5\n"
     ]
    }
   ],
   "source": [
    "def calculate_precision_recall(answer_set_A, query_q1, relevant_docs_Rq1):\n",
    "\n",
    "    \"\"\"\n",
    "    Calculates precision and recall for a given query.\n",
    "\n",
    "    Args:\n",
    "        answer_set_A: A set of documents retrieved by the system for the query.\n",
    "        query_q1: The query.\n",
    "        relevant_docs_Rq1: A set of documents that are actually relevant to the query.\n",
    "\n",
    "    Returns:\n",
    "        precision: The precision of the system for the query.\n",
    "        recall: The recall of the system for the query.\n",
    "    \"\"\"\n",
    "\n",
    "\n",
    "\n",
    "    retrieved_relevant = answer_set_A.intersection(relevant_docs_Rq1)\n",
    "\n",
    "\n",
    "\n",
    "    precision = len(retrieved_relevant) / len(answer_set_A) if len(answer_set_A) > 0 else 0\n",
    "\n",
    "    recall = len(retrieved_relevant) / len(relevant_docs_Rq1) if len(relevant_docs_Rq1) > 0 else 0\n",
    "\n",
    "\n",
    "\n",
    "    return precision, recall\n",
    "\n",
    "\n",
    "\n",
    "if __name__ == \"__main__\":\n",
    "\n",
    "    # Sample input\n",
    "\n",
    "    answer_set_A = {1, 2, 3, 4, 5}\n",
    "\n",
    "    relevant_docs_Rq1 = {2, 3, 6, 7}\n",
    "\n",
    "\n",
    "\n",
    "    precision, recall = calculate_precision_recall(answer_set_A, \"q1\", relevant_docs_Rq1)\n",
    "\n",
    "\n",
    "\n",
    "    print(\"Precision:\", precision)\n",
    "\n",
    "    print(\"Recall:\", recall)\n"
   ]
  },
  {
   "cell_type": "code",
   "execution_count": null,
   "id": "c8432e77-e2b2-4420-8d11-319abb42fed3",
   "metadata": {},
   "outputs": [],
   "source": []
  }
 ],
 "metadata": {
  "kernelspec": {
   "display_name": "Python 3 (ipykernel)",
   "language": "python",
   "name": "python3"
  },
  "language_info": {
   "codemirror_mode": {
    "name": "ipython",
    "version": 3
   },
   "file_extension": ".py",
   "mimetype": "text/x-python",
   "name": "python",
   "nbconvert_exporter": "python",
   "pygments_lexer": "ipython3",
   "version": "3.12.4"
  }
 },
 "nbformat": 4,
 "nbformat_minor": 5
}
