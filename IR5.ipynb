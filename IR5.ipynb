{
 "cells": [
  {
   "cell_type": "code",
   "execution_count": null,
   "id": "7fba26b4-1b66-41e0-9fcf-3e821c31d6a5",
   "metadata": {},
   "outputs": [],
   "source": [
    "#NAME: DEVASHISH MAYUR POTNIS\n",
    "#CLASS: BE-AIML\n",
    "#ROLL NO: 43557\n",
    "#PRACTICAL: C.1\n",
    "#PROBLEM STATEMENT:-Build the web crawler to pull product information and links from an e-commerce website. (Python)"
   ]
  },
  {
   "cell_type": "code",
   "execution_count": 4,
   "id": "da018b54-ecbd-4566-928b-0d301952e5c3",
   "metadata": {},
   "outputs": [],
   "source": [
    "import requests\n",
    "from bs4 import BeautifulSoup\n",
    "import csv\n",
    "\n",
    "start_url = \"https://in.puma.com/in/en/collections/collections-football/collections-football-manchester-city-fc\"\n",
    "web_page = requests.get(start_url)\n",
    "soup = BeautifulSoup(web_page.content, 'html.parser')\n",
    "\n",
    "product_links = []\n",
    "for link in soup.find_all(attrs={\"data-test-id\": \"product-list-item-link\"}):\n",
    "    if link['href'] not in product_links:\n",
    "        product_links.append('https://in.puma.com' + link['href'])\n",
    "\n",
    "# print(product_links)\n",
    "with open('puma_manchester_city.csv', 'w', encoding=\"utf-8\") as csv_file:\n",
    "    writer = csv.writer(csv_file)\n",
    "    writer.writerow(['Product Name', 'Price', 'Description', 'Link'])\n",
    "\n",
    "    \n",
    "    for product_url in product_links:\n",
    "        product_page = requests.get(product_url)\n",
    "        product_soup = BeautifulSoup(product_page.content, 'html.parser')\n",
    "        product_name = product_soup.find(attrs={\"data-test-id\": \"pdp-title\"}).text.strip()\n",
    "        on_sale = product_soup.find(attrs={\"data-test-id\":\"item-sale-price-pdp\"})\n",
    "        price =  on_sale.text.strip() if on_sale else  product_soup.find(attrs={\"data-test-id\":\"item-price-pdp\"}).text.strip()\n",
    "        product_description = product_soup.find(attrs={\"data-test-id\":\"pdp-product-description\"}).text.strip()\n",
    "        writer.writerow([product_name, price, product_description, product_url])"
   ]
  },
  {
   "cell_type": "code",
   "execution_count": null,
   "id": "1d764970-9ff4-4e79-9072-c24dce5ca664",
   "metadata": {},
   "outputs": [],
   "source": []
  }
 ],
 "metadata": {
  "kernelspec": {
   "display_name": "Python 3 (ipykernel)",
   "language": "python",
   "name": "python3"
  },
  "language_info": {
   "codemirror_mode": {
    "name": "ipython",
    "version": 3
   },
   "file_extension": ".py",
   "mimetype": "text/x-python",
   "name": "python",
   "nbconvert_exporter": "python",
   "pygments_lexer": "ipython3",
   "version": "3.12.4"
  }
 },
 "nbformat": 4,
 "nbformat_minor": 5
}
